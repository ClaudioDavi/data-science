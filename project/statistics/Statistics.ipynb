{
 "cells": [
  {
   "cell_type": "markdown",
   "metadata": {},
   "source": [
    "# Ensaios em Estatística"
   ]
  },
  {
   "cell_type": "code",
   "execution_count": 35,
   "metadata": {},
   "outputs": [],
   "source": [
    "import numpy as np"
   ]
  },
  {
   "cell_type": "code",
   "execution_count": 37,
   "metadata": {},
   "outputs": [],
   "source": [
    "values = np.random.random_integers(10, size=(100,))"
   ]
  },
  {
   "cell_type": "code",
   "execution_count": 43,
   "metadata": {},
   "outputs": [
    {
     "name": "stdout",
     "output_type": "stream",
     "text": [
      "Média:  5.41\n",
      "Mediana:  5.0\n",
      "Quantile 25%:  3.0\n",
      "Quantile 75%:  8.0\n",
      "Dispersion:  9\n",
      "Variancia:  7.8019\n",
      "Desvio Padrão:  2.79\n",
      "Dispersão ajustada:  5.0\n"
     ]
    }
   ],
   "source": [
    "print(\"Média: \", np.mean(values))\n",
    "print(\"Mediana: \", np.median(values))\n",
    "print(\"Quantile 25%: \", np.percentile(a=values, q=25))\n",
    "print(\"Quantile 75%: \", np.percentile(a=values, q=75))\n",
    "print(\"Dispersion: \", np.ptp(values))\n",
    "print(\"Variancia: \", np.var(values))\n",
    "print(\"Desvio Padrão: \", np.round(np.std(values), decimals=2))\n",
    "print(\"Dispersão ajustada: \", np.percentile(a=values, q=75) - np.percentile(a=values, q=25))"
   ]
  },
  {
   "cell_type": "markdown",
   "metadata": {},
   "source": [
    "---\n",
    "# Little Inference Book \n",
    "\n",
    "## Capítulo 2"
   ]
  },
  {
   "cell_type": "markdown",
   "metadata": {},
   "source": [
    "### Notas\n",
    "\n",
    "#### Regras de Kolmogorov\n",
    "* A Probabilidade de Nada ocorrer é 0\n",
    "* A Probabilidade de algo ocorrer é 1\n",
    "* A probabilidade de algo é 1 menos a probabilidade do oposto ocorrer\n",
    "* A provavilidade de pelo menos duas coisas que não ocorram simultâneamente é a soma das suas probabilidades.\n",
    "* Para qualquer dois eventos a probabilidade de pelo menos um ocorrer é a soma das suas probabilidades menos a sua intercecção.\n",
    "\n",
    "#### Probability Mass Functions (PMF)\n",
    "\n",
    "Uma PMF avaliada em um valor corresponde a probabilidade de uma variável aleatória pegue aquele valor\n",
    "\n",
    "* Precisa ser sempre maior que, ou igual a 0\n",
    "* A soma dos valores possíveis que a variável aleatória pode pegar tem que somar 1\n",
    "\n",
    "#### Probability Density Functions (PDF)\n",
    "\n",
    "Uma PDF é uma função associada com uma variável randômica contínua. As pareas sob PDFs correspondem a probabilidade para aquela variável.\n",
    "\n",
    "*A probabilidade de um exemplo randômico ser retirado e pertencer a um grupo entre dois valores é calculado pela área entre esses dois valores.*\n",
    "\n",
    "* Precisa ser maior que ou igual a 0\n",
    "* A área total precisa ser 1\n",
    "\n",
    "#### Cumulative Distribution Function (CDF)\n",
    "\n",
    "A CDF de uma variável X retorna a probabilidade daquela variável ser menor ou igual ao valor de entrada (x)\n",
    "\n",
    "#### Survival Function\n",
    "\n",
    "A Survival Function de uma variável X é definida pela probabilidade dessa variável ser maior que o valor de entrada (x)\n",
    "\n",
    "#### Quantile\n",
    "É um ponto onde a probabilidade de se conseguir uma valor randômico abaixo dele é igual ao valor de entrada. Procurando o 0.95 quantile se tem um valor onde 95% dos outros valores estão abaixo dele."
   ]
  },
  {
   "cell_type": "markdown",
   "metadata": {},
   "source": [
    "---\n",
    "### Exercícios\n",
    "\n",
    "#### Exercício 1\n",
    "**Podemos adicioanr as probabilidades de quaisquer dois eventos para obter a probabilidade de pelo menos um ocorrer?**\n",
    "\n",
    "R: Não, você apenas consegue adicionar a probabilidade de eventos se eles forem mutuamente exclusivos."
   ]
  },
  {
   "cell_type": "markdown",
   "metadata": {},
   "source": [
    "#### Exercício 2\n",
    "**Considerando uma PMF (Probability Mass Function) p onde para x = 0 e x = 1 nós temos p(0) = -0.1 e p(1) - 1.1. Essa é uma PMF válida?**\n",
    "\n",
    "R: Não é válida. uma PMF válida tem apenas valores maiores que 0"
   ]
  },
  {
   "cell_type": "markdown",
   "metadata": {},
   "source": [
    "#### Exercício 3\n",
    "**Qual é a probabilidade de 75% ou menos ligações serem respondidas em um sample aleatório da distribuição da população desse capítulo?**\n"
   ]
  },
  {
   "cell_type": "code",
   "execution_count": 49,
   "metadata": {},
   "outputs": [],
   "source": [
    "def fn(x):\n",
    "    return np.round(np.sqrt(x), decimals=2)"
   ]
  },
  {
   "cell_type": "code",
   "execution_count": 51,
   "metadata": {},
   "outputs": [
    {
     "name": "stdout",
     "output_type": "stream",
     "text": [
      "R:  0.87\n"
     ]
    }
   ],
   "source": [
    "print(\"R: \", fn(0.75))"
   ]
  },
  {
   "cell_type": "markdown",
   "metadata": {},
   "source": [
    "#### Exercício 4\n",
    "**O 97.5 perceitile de uma distribuição é?**\n",
    "\n",
    "R: O valor que representa o ponto onde 97.5% de todos os outros valores são menores do que ele."
   ]
  },
  {
   "cell_type": "markdown",
   "metadata": {},
   "source": [
    "#### Exercício 5\n",
    "**Considerando uma empidemia de influenza em casais. Suponhamos que a probabilidade é de 15% para que pelo menos um dos dois contraiu a doença.** **A probabilidade de que o homem tenha contraído a doença é de 10% e da mulher é de 9%.** **Qual a probabilidade de ambos terem contraído a doença expressado em porcentagens?**\n"
   ]
  },
  {
   "cell_type": "code",
   "execution_count": 56,
   "metadata": {},
   "outputs": [
    {
     "name": "stdout",
     "output_type": "stream",
     "text": [
      "4.0 %\n"
     ]
    }
   ],
   "source": [
    "p_A = 0.10 # Homem\n",
    "p_B = 0.09 # Mulher\n",
    "p_AUB = 0.15 # Pelo menos 1\n",
    "\n",
    "print(np.round(p_A + p_B - p_AUB, decimals=2)*100, \"%\")\n",
    "\n",
    "\n",
    "#p_AUB = p_A + p_B - p_A0B"
   ]
  },
  {
   "cell_type": "markdown",
   "metadata": {},
   "source": [
    "#### Exercício 6\n",
    "**Uma variável randomica X é uniforme, expressa como uma caixa de 0 à 1 de altura 1. (Portanto sua densidade é de f(x) = 1 para 0 <= x <= 1. Qual é a sua mediana expressa até duas casas decimais?**\n",
    "\n",
    "R: 0.50"
   ]
  },
  {
   "cell_type": "markdown",
   "metadata": {},
   "source": [
    "#### Exercício 7\n",
    "**Se uma densidade contínua que nunca toca o eixo horizontal é simétrico em relação ao zero, podemos dizer que sua mediana associada é zero?**\n",
    "\n",
    "R: Sim."
   ]
  },
  {
   "cell_type": "markdown",
   "metadata": {},
   "source": [
    "---\n",
    "## Capítulo 3"
   ]
  },
  {
   "cell_type": "markdown",
   "metadata": {},
   "source": [
    "## Notas\n",
    "\n",
    "#### Regra de Bayes\n",
    "Permite que troquemos o evento condicional, desde que nos seja provido um pouco de informação extra.\n",
    "\n",
    "$$ P(A \\mid B) = \\frac{P(A \\mid B) \\, P(B)}{P(A \\mid B)\\, P(B) + P(A \\mid B^c)\\, P(B^c) } $$\n",
    "\n",
    "\n",
    "#### Sensitivity\n",
    "É a probabilidade de dar positivo quando o resultado for de fato positivo\n",
    "\n",
    "#### Specificity\n",
    "É a probabilidade de dar negativo visto que o resultado é negativo.\n",
    "\n",
    "#### Positive Predictive Value\n",
    "É a probabilidade da amostra ser positiva visto que o resultado é positivo\n",
    "\n",
    "#### Negative Predictive Value\n",
    "É a probabilidade da amostra ser negativa visto que o resultado é negativo.\n",
    "\n",
    "#### Independence\n",
    "Independência estatística de eventos é a ideia de que eventos não são relacionados. A e B são independentes quando: $$P(A \\cap B) = P(A)\\,P(B) $$\n"
   ]
  }
 ],
 "metadata": {
  "kernelspec": {
   "display_name": "Python 3",
   "language": "python",
   "name": "python3"
  },
  "language_info": {
   "codemirror_mode": {
    "name": "ipython",
    "version": 3
   },
   "file_extension": ".py",
   "mimetype": "text/x-python",
   "name": "python",
   "nbconvert_exporter": "python",
   "pygments_lexer": "ipython3",
   "version": "3.6.5"
  }
 },
 "nbformat": 4,
 "nbformat_minor": 2
}
